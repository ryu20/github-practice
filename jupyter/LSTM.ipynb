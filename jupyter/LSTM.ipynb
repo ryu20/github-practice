{
 "cells": [
  {
   "cell_type": "code",
   "execution_count": null,
   "id": "0eeddd47",
   "metadata": {},
   "outputs": [],
   "source": [
    "from oandapyV20 import API\n",
    "from oandapyV20.contrib.factories import InstrumentsCandlesFactory\n",
    "import oandapyV20.endpoints.instruments as instruments\n",
    "import pandas as pd\n",
    "import numpy as np\n",
    "from datetime import datetime, date, timedelta\n",
    "from dateutil.relativedelta import relativedelta\n",
    "from tensorflow.keras.models import Sequential\n",
    "from tensorflow.keras.layers import Activation, Dense\n",
    "from tensorflow.keras.layers import LSTM\n",
    "from tensorflow.keras.layers import Dropout\n",
    "from tensorflow.keras.callbacks import EarlyStopping\n",
    "from sklearn.preprocessing import MinMaxScaler\n",
    "from matplotlib import pyplot as plt\n",
    "import configparser\n",
    "\n",
    "from hyperopt import Trials, STATUS_OK, tpe\n",
    "from hyperas import optim\n",
    "from hyperas.distributions import choice"
   ]
  },
  {
   "cell_type": "code",
   "execution_count": null,
   "id": "4c2aec52",
   "metadata": {},
   "outputs": [],
   "source": [
    "config = configparser.ConfigParser()\n",
    "config.read('../config/oanda_conf.ini')\n",
    "\n",
    "access_token = config['LIVE']['TOKEN']\n",
    "\n",
    "api = API(access_token=access_token, environment=\"live\")"
   ]
  },
  {
   "cell_type": "code",
   "execution_count": null,
   "id": "8bed0d08",
   "metadata": {},
   "outputs": [],
   "source": [
    "# 日時による取得\n",
    "def fetch_data_by_date(_from, _to, granularity='M5', instrument='USD_JPY'):\n",
    "    data = []\n",
    "    # APIに渡すパラメーターの設定\n",
    "    params = {\n",
    "        'from': _from,\n",
    "        'to': _to,\n",
    "        'granularity':granularity\n",
    "    }\n",
    "    # APIへ過去為替レートをリクエスト\n",
    "    for r in InstrumentsCandlesFactory(instrument=instrument, params=params):\n",
    "        api.request(r)\n",
    "        for raw in r.response['candles']:\n",
    "            data.append([raw['time'], raw['volume'], raw['mid']['o'], raw['mid']['h'], raw['mid']['l'], raw['mid']['c']])\n",
    "\n",
    "    df = pd.DataFrame(data)\n",
    "    df.columns = ['Time', 'Volume', 'Open', 'High', 'Low', 'Close']\n",
    "    df = df.set_index('Time')\n",
    "    df.index = pd.to_datetime(df.index, format='%Y%m%d %H:%M:%S')\n",
    "    \n",
    "    today = datetime.today().strftime(\"%m%d\")\n",
    "    f_name = '{}-{}-{}-{}.csv'.format(instrument, granularity, today, len(df))\n",
    "    \n",
    "    df.to_csv(f_name)\n",
    "    return df, f_name"
   ]
  },
  {
   "cell_type": "code",
   "execution_count": null,
   "id": "bf6852cc",
   "metadata": {},
   "outputs": [],
   "source": [
    "def get_data(x_df, y_df, window_len=10, train_rate = 0.8):\n",
    "    mms = MinMaxScaler()\n",
    "    x_df = mms.fit_transform(x_df)\n",
    "    y_df = mms.fit_transform(y_df)\n",
    "    x, y = [], []\n",
    "    for i in range(len(df)-window_len):\n",
    "        x.append(x_df[i:i+window_len])\n",
    "        y.append(y_df[i+window_len])\n",
    "    \n",
    "    train_size = int(train_rate * (len(df)-window_len))\n",
    "    x_train, y_train, x_test, y_test = np.array(x[:train_size]), np.array(y[:train_size]), np.array(x[train_size:]), np.array(y[train_size:])\n",
    "    return x_train, y_train, x_test, y_test"
   ]
  },
  {
   "cell_type": "code",
   "execution_count": null,
   "id": "a5a57792",
   "metadata": {},
   "outputs": [],
   "source": [
    "def build_model(inputs, output_size, neurons=300, activ_func=\"linear\",\n",
    "                dropout=0.5, loss=\"mae\", optimizer=\"adam\"):\n",
    "    model = Sequential()\n",
    "    model.add(LSTM(neurons, batch_input_shape=(None, inputs.shape[1], inputs.shape[2]), dropout=dropout))\n",
    "    model.add(Dense(units=output_size))\n",
    "    model.add(Activation(activ_func))\n",
    " \n",
    "    model.compile(loss=loss, optimizer=optimizer)\n",
    "    return model"
   ]
  },
  {
   "cell_type": "code",
   "execution_count": null,
   "id": "79f5dc6b",
   "metadata": {},
   "outputs": [],
   "source": [
    "def create_model(x_train, y_train, x_test, y_test):\n",
    "    model = Sequential()\n",
    "    model.add(LSTM({{choice([256, 512])}}, input_shape=(x_train.shape[1], x_train.shape[2]), dropout={{uniform(0, 1)}}))\n",
    "    model.add(Dense(units=y_train.shape[1]), activation=\"linear\")\n",
    " \n",
    "    model.compile(loss=\"mae\", optimizer=\"adam\")\n",
    "    early_stopping = EarlyStopping(monitor='val_loss', mode='auto', patience=0)\n",
    "    model.fit(x_train, y_train,\n",
    "              batch_size=100,\n",
    "              epochs=10,\n",
    "              verbose=1,\n",
    "              validation_split=0.2,\n",
    "              callbacks=[early_stopping])\n",
    "\n",
    "    val_loss, val_acc = model.evaluate(x_test, y_test, verbose=0)\n",
    "    return {'loss': -val_acc, 'status': STATUS_OK, 'model': model}"
   ]
  },
  {
   "cell_type": "code",
   "execution_count": null,
   "id": "e8baa75c",
   "metadata": {},
   "outputs": [],
   "source": [
    "today = datetime.today()\n",
    "one_years_ago = today - relativedelta(years=1)\n",
    "one_month_ago = today - relativedelta(months=1)\n",
    "\n",
    "iso_format = '%Y-%m-%dT%H:%M:%SZ'\n",
    "\n",
    "granularity='M5'\n",
    "instrument='USD_JPY'\n",
    "\n",
    "_from = one_years_ago.strftime(iso_format)\n",
    "_to = today.strftime(iso_format)\n",
    "\n",
    "df, f_name = fetch_data_by_date(_from, _to)\n",
    "df"
   ]
  },
  {
   "cell_type": "code",
   "execution_count": null,
   "id": "461b61cc",
   "metadata": {
    "scrolled": false
   },
   "outputs": [],
   "source": [
    "f_name = 'USD_JPY-M5-0621-74286.csv'\n",
    "df = pd.read_csv(f_name, encoding=\"utf_8\", index_col=0)"
   ]
  },
  {
   "cell_type": "code",
   "execution_count": null,
   "id": "86ef6497",
   "metadata": {},
   "outputs": [],
   "source": [
    "x_df = df[['Open', 'High', 'Low', 'Close']]\n",
    "y_df = df[['Close']]"
   ]
  },
  {
   "cell_type": "code",
   "execution_count": null,
   "id": "00aa237c",
   "metadata": {},
   "outputs": [],
   "source": [
    "x_train, y_train, x_test, y_test = get_data(x_df, y_df, window_len=10)\n",
    "for data in [x_train, y_train, x_test, y_test]:\n",
    "    print(data.shape)"
   ]
  },
  {
   "cell_type": "code",
   "execution_count": null,
   "id": "5b30bd63",
   "metadata": {},
   "outputs": [],
   "source": [
    "best_run, best_model = optim.minimize(model=create_model,\n",
    "                                      data=get_data,\n",
    "                                      algo=tpe.suggest,\n",
    "                                      max_evals=100,\n",
    "                                      trials=Trials())\n",
    "\n",
    "print(best_model.summary())\n",
    "print(best_run)\n",
    "\n",
    "_, _, x_test, y_test = get_data()\n",
    "val_loss, val_acc = best_model.evaluate(x_test, y_test)\n",
    "print(\"val_loss: \", val_loss)\n",
    "print(\"val_acc: \", val_acc)"
   ]
  },
  {
   "cell_type": "code",
   "execution_count": null,
   "id": "6448243c",
   "metadata": {},
   "outputs": [],
   "source": [
    "output_size = y_train.shape[1]\n",
    "model = build_model(x_train, output_size=output_size, neurons=600)"
   ]
  },
  {
   "cell_type": "code",
   "execution_count": null,
   "id": "e1265786",
   "metadata": {
    "scrolled": true
   },
   "outputs": [],
   "source": [
    "early_stopping = EarlyStopping(monitor='val_loss', mode='auto', patience=0)\n",
    "history = model.fit(x_train, y_train, batch_size=600, epochs=10, validation_split=0.2, callbacks=[early_stopping])\n",
    "val_loss, val_acc = model.evaluate(x_test, y_test, verbose=0)"
   ]
  },
  {
   "cell_type": "code",
   "execution_count": null,
   "id": "c8559c38",
   "metadata": {},
   "outputs": [],
   "source": [
    "# MAEをプロットしてみよう\n",
    "fig, ax1 = plt.subplots(1,1)\n",
    " \n",
    "ax1.plot(history.epoch, history.history['loss'])\n",
    "ax1.set_title('TrainingError')\n",
    "ax1.set_ylabel('Model Loss',fontsize=12)\n",
    "ax1.set_xlabel('# Epochs',fontsize=12)\n",
    "plt.show()"
   ]
  },
  {
   "cell_type": "code",
   "execution_count": null,
   "id": "4f4f3667",
   "metadata": {},
   "outputs": [],
   "source": [
    "pred_data = model.predict(x_train)\n",
    "plt.plot(y_train.reshape(pred_data.shape[0]), label='train')\n",
    "plt.plot(pred_data, label='pred')\n",
    "plt.legend(loc='upper left')\n",
    "plt.show()"
   ]
  },
  {
   "cell_type": "code",
   "execution_count": null,
   "id": "65d1a22f",
   "metadata": {},
   "outputs": [],
   "source": [
    "pred_data = model.predict(x_test)\n",
    "plt.plot(y_test.reshape(pred_data.shape[0]), label='test')\n",
    "plt.plot(pred_data, label='pred')\n",
    "plt.legend(loc='upper left')\n",
    "plt.show()"
   ]
  },
  {
   "cell_type": "code",
   "execution_count": null,
   "id": "ff9b71a5",
   "metadata": {},
   "outputs": [],
   "source": []
  }
 ],
 "metadata": {
  "kernelspec": {
   "display_name": "Python 3",
   "language": "python",
   "name": "python3"
  },
  "language_info": {
   "codemirror_mode": {
    "name": "ipython",
    "version": 3
   },
   "file_extension": ".py",
   "mimetype": "text/x-python",
   "name": "python",
   "nbconvert_exporter": "python",
   "pygments_lexer": "ipython3",
   "version": "3.7.10"
  }
 },
 "nbformat": 4,
 "nbformat_minor": 5
}
